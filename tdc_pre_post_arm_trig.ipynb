{
 "cells": [
  {
   "cell_type": "code",
   "execution_count": 1,
   "metadata": {},
   "outputs": [
    {
     "name": "stderr",
     "output_type": "stream",
     "text": [
      "/home/pi/kilom_spi/high_level_tdc.py:14: RuntimeWarning: This channel is already in use, continuing anyway.  Use GPIO.setwarnings(False) to disable warnings.\n",
      "  GPIO.setup(2, GPIO.OUT)\n"
     ]
    }
   ],
   "source": [
    "from high_level_tdc import *\n",
    "from time import sleep\n",
    "from matplotlib import pyplot as plt\n",
    "import numpy as np"
   ]
  },
  {
   "cell_type": "code",
   "execution_count": null,
   "metadata": {},
   "outputs": [],
   "source": [
    "#todo\n",
    "# something is shifty with the interrupt"
   ]
  },
  {
   "cell_type": "code",
   "execution_count": 7,
   "metadata": {},
   "outputs": [
    {
     "name": "stdout",
     "output_type": "stream",
     "text": [
      "ch 0, t1 =      0.00 ns, tot =     -1.00 ns\n",
      "ch 1, t1 =      3.75 ns, tot =     -1.00 ns\n",
      "ch 0, t1 =      0.00 ns, tot =     -1.00 ns\n",
      "ch 1, t1 =      3.75 ns, tot =     -1.00 ns\n",
      "ch 0, t1 =      0.00 ns, tot =     -1.00 ns\n",
      "ch 1, t1 =      3.75 ns, tot =     -1.00 ns\n"
     ]
    }
   ],
   "source": [
    "for i in range(0,3):\n",
    "  acquire(trig_chan=0, channels = [0,1])"
   ]
  },
  {
   "cell_type": "code",
   "execution_count": null,
   "metadata": {},
   "outputs": [],
   "source": []
  },
  {
   "cell_type": "code",
   "execution_count": 18,
   "metadata": {},
   "outputs": [
    {
     "data": {
      "text/plain": [
       "'0b0'"
      ]
     },
     "execution_count": 18,
     "metadata": {},
     "output_type": "execute_result"
    }
   ],
   "source": [
    "clear_hw_trig()\n",
    "#trigger_on_chan(0)\n",
    "#trigger_on_chan(4)\n",
    "bin(get_hw_trig_map())"
   ]
  },
  {
   "cell_type": "code",
   "execution_count": 20,
   "metadata": {},
   "outputs": [
    {
     "name": "stdout",
     "output_type": "stream",
     "text": [
      "[2827, 95905]\n",
      "2061.917508303904\n",
      "2069.895803634558\n"
     ]
    }
   ],
   "source": [
    "disable_calib_pulser()\n",
    "#enable_calib_pulser()\n",
    "\n",
    "print(read_scaler(0))\n",
    "for i in range(0,2):\n",
    "  print(scaler_rate(i,delay=0.1))"
   ]
  },
  {
   "cell_type": "code",
   "execution_count": 24,
   "metadata": {},
   "outputs": [
    {
     "data": {
      "text/plain": [
       "0"
      ]
     },
     "execution_count": 24,
     "metadata": {},
     "output_type": "execute_result"
    }
   ],
   "source": [
    "wait_for_trig(timeout=2)\n",
    "get_trig_state()"
   ]
  },
  {
   "cell_type": "code",
   "execution_count": 30,
   "metadata": {},
   "outputs": [
    {
     "name": "stdout",
     "output_type": "stream",
     "text": [
      "ta pre  (ns) 96216225.000\n",
      "tb pre  (ns) 96216228.750\n",
      "ta post (ns) 96700484.583\n",
      "tb post (ns) 96700488.333\n",
      "\n",
      "ta pre  (ns) 98151359.583\n",
      "tb pre  (ns) 98151363.333\n",
      "ta post (ns) 98634416.250\n",
      "tb post (ns) 98634420.000\n",
      "\n",
      "ta pre  (ns) 104439712.500\n",
      "tb pre  (ns) 104439716.250\n",
      "ta post (ns) 104923458.750\n",
      "tb post (ns) 104923462.500\n",
      "\n",
      "ta pre  (ns) 110242424.583\n",
      "tb pre  (ns) 110242428.333\n",
      "ta post (ns) 110725888.750\n",
      "tb post (ns) 110725892.500\n",
      "\n",
      "ta pre  (ns) 3713997.500\n",
      "tb pre  (ns) 3714001.667\n",
      "ta post (ns) 4197627.917\n",
      "tb post (ns) 4197631.667\n",
      "\n"
     ]
    },
    {
     "data": {
      "image/png": "[encoded data removed]",
      "text/plain": [
       "<Figure size 432x288 with 1 Axes>"
      ]
     },
     "metadata": {
      "needs_background": "light"
     },
     "output_type": "display_data"
    }
   ],
   "source": [
    "\n",
    "tdiff =  []\n",
    "\n",
    "disable_calib_pulser()\n",
    "#enable_calib_pulser()\n",
    "\n",
    "# triggering pulse is stored in post register\n",
    "\n",
    "a = 0\n",
    "b = 1\n",
    "\n",
    "trigger_on_chan(0)\n",
    "\n",
    "\n",
    "for i in range(0,5):\n",
    "  arm()\n",
    "  wait_for_trig()\n",
    "  tapre = read_pre_t1(a)\n",
    "  tbpre = read_pre_t1(b)\n",
    "  tapost = read_t1(a)\n",
    "  tbpost = read_t1(b)\n",
    "  print(\"ta pre  (ns) {:3.3f}\".format(tapre*1e9))\n",
    "  print(\"tb pre  (ns) {:3.3f}\".format(tbpre*1e9))\n",
    "  print(\"ta post (ns) {:3.3f}\".format(tapost*1e9))\n",
    "  print(\"tb post (ns) {:3.3f}\".format(tbpost*1e9))\n",
    "  print()\n",
    "\n",
    "  tdiff += [tbpre-tapre]\n",
    "\n",
    "tdiff = np.array(tdiff)\n",
    "\n",
    "plt.hist(tdiff*1e9,bins=np.linspace(-5,5,100))\n",
    "plt.xlabel(\"ns\")\n",
    "plt.show()"
   ]
  }
 ],
 "metadata": {
  "kernelspec": {
   "display_name": "Python 3",
   "language": "python",
   "name": "python3"
  },
  "language_info": {
   "codemirror_mode": {
    "name": "ipython",
    "version": 3
   },
   "file_extension": ".py",
   "mimetype": "text/x-python",
   "name": "python",
   "nbconvert_exporter": "python",
   "pygments_lexer": "ipython3",
   "version": "3.7.3"
  }
 },
 "nbformat": 4,
 "nbformat_minor": 2
}
