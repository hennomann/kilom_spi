{
 "cells": [
  {
   "cell_type": "code",
   "execution_count": 17,
   "metadata": {},
   "outputs": [],
   "source": [
    "from high_level_tdc import *\n",
    "from time import sleep\n",
    "from matplotlib import pyplot as plt\n",
    "import numpy as np"
   ]
  },
  {
   "cell_type": "code",
   "execution_count": 18,
   "metadata": {},
   "outputs": [
    {
     "data": {
      "text/plain": [
       "'0b0'"
      ]
     },
     "execution_count": 18,
     "metadata": {},
     "output_type": "execute_result"
    }
   ],
   "source": [
    "clear_hw_trig()\n",
    "#trigger_on_chan(0)\n",
    "#trigger_on_chan(4)\n",
    "bin(get_hw_trig_map())"
   ]
  },
  {
   "cell_type": "code",
   "execution_count": 20,
   "metadata": {},
   "outputs": [
    {
     "name": "stdout",
     "output_type": "stream",
     "text": [
      "[2827, 95905]\n",
      "2061.917508303904\n",
      "2069.895803634558\n"
     ]
    }
   ],
   "source": [
    "disable_calib_pulser()\n",
    "#enable_calib_pulser()\n",
    "\n",
    "print(read_scaler(0))\n",
    "for i in range(0,2):\n",
    "  print(scaler_rate(i,delay=0.1))"
   ]
  },
  {
   "cell_type": "code",
   "execution_count": 24,
   "metadata": {},
   "outputs": [
    {
     "data": {
      "text/plain": [
       "0"
      ]
     },
     "execution_count": 24,
     "metadata": {},
     "output_type": "execute_result"
    }
   ],
   "source": [
    "wait_for_trig(timeout=2)\n",
    "get_trig_state()"
   ]
  },
  {
   "cell_type": "code",
   "execution_count": 27,
   "metadata": {},
   "outputs": [
    {
     "name": "stdout",
     "output_type": "stream",
     "text": [
      "ta pre  (ns) 24831855.833\n",
      "tb pre  (ns) 24831859.583\n",
      "ta post (ns) 25314927.500\n",
      "tb post (ns) 25314931.250\n",
      "\n",
      "ta pre  (ns) 30150069.167\n",
      "tb pre  (ns) 30150073.333\n",
      "ta post (ns) 30633476.667\n",
      "tb post (ns) 30633480.417\n",
      "\n",
      "ta pre  (ns) 35471026.667\n",
      "tb pre  (ns) 35471030.417\n",
      "ta post (ns) 35954989.583\n",
      "tb post (ns) 35954993.333\n",
      "\n",
      "ta pre  (ns) 40308044.583\n",
      "tb pre  (ns) 40308048.333\n",
      "ta post (ns) 40792019.583\n",
      "tb post (ns) 40792023.333\n",
      "\n",
      "ta pre  (ns) 45629149.583\n",
      "tb pre  (ns) 45629153.333\n",
      "ta post (ns) 46112562.917\n",
      "tb post (ns) 46112566.667\n",
      "\n"
     ]
    },
    {
     "data": {
      "image/png": "[encoded data removed]",
      "text/plain": [
       "<Figure size 432x288 with 1 Axes>"
      ]
     },
     "metadata": {
      "needs_background": "light"
     },
     "output_type": "display_data"
    }
   ],
   "source": [
    "\n",
    "tdiff =  []\n",
    "\n",
    "disable_calib_pulser()\n",
    "#enable_calib_pulser()\n",
    "\n",
    "# triggering pulse is stored in post register\n",
    "\n",
    "a = 0\n",
    "b = 1\n",
    "\n",
    "trigger_on_chan(0)\n",
    "\n",
    "\n",
    "for i in range(0,5):\n",
    "  arm()\n",
    "  sleep(0.002)\n",
    "  #trigger()\n",
    "  sleep(0.002)\n",
    "  tapre = read_pre_t1(a)\n",
    "  tbpre = read_pre_t1(b)\n",
    "  tapost = read_t1(a)\n",
    "  tbpost = read_t1(b)\n",
    "  print(\"ta pre  (ns) {:3.3f}\".format(tapre*1e9))\n",
    "  print(\"tb pre  (ns) {:3.3f}\".format(tbpre*1e9))\n",
    "  print(\"ta post (ns) {:3.3f}\".format(tapost*1e9))\n",
    "  print(\"tb post (ns) {:3.3f}\".format(tbpost*1e9))\n",
    "  print()\n",
    "\n",
    "  tdiff += [tbpre-tapre]\n",
    "\n",
    "tdiff = np.array(tdiff)\n",
    "\n",
    "plt.hist(tdiff*1e9)\n",
    "plt.xlabel(\"ns\")\n",
    "plt.show()"
   ]
  }
 ],
 "metadata": {
  "kernelspec": {
   "display_name": "Python 3",
   "language": "python",
   "name": "python3"
  },
  "language_info": {
   "codemirror_mode": {
    "name": "ipython",
    "version": 3
   },
   "file_extension": ".py",
   "mimetype": "text/x-python",
   "name": "python",
   "nbconvert_exporter": "python",
   "pygments_lexer": "ipython3",
   "version": "3.7.3"
  }
 },
 "nbformat": 4,
 "nbformat_minor": 2
}
