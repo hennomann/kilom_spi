{
 "cells": [
  {
   "cell_type": "code",
   "execution_count": 1,
   "metadata": {},
   "outputs": [],
   "source": [
    "from high_level_tdc import *\n",
    "from time import sleep\n",
    "from matplotlib import pyplot as plt\n",
    "import numpy as np"
   ]
  },
  {
   "cell_type": "code",
   "execution_count": 2,
   "metadata": {},
   "outputs": [
    {
     "name": "stdout",
     "output_type": "stream",
     "text": [
      "[3427, 483302]\n",
      "271016.4837755135\n"
     ]
    }
   ],
   "source": [
    "trig_enable_chan(0)\n",
    "disable_calib_pulser()\n",
    "enable_calib_pulser()\n",
    "\n",
    "print(read_scaler(0))\n",
    "for i in range(0,1):\n",
    "  print(scaler_rate(i,delay=1))"
   ]
  },
  {
   "cell_type": "code",
   "execution_count": 3,
   "metadata": {},
   "outputs": [
    {
     "name": "stdout",
     "output_type": "stream",
     "text": [
      "tot: 4.167 ns\n"
     ]
    }
   ],
   "source": [
    "arm()\n",
    "sleep(0.002)\n",
    "print(\"tot: {:3.3f} ns\".format(read_tot(0)*1e9))"
   ]
  },
  {
   "cell_type": "code",
   "execution_count": 4,
   "metadata": {},
   "outputs": [
    {
     "name": "stdout",
     "output_type": "stream",
     "text": [
      "pre-tot: 3.750 ns\n"
     ]
    }
   ],
   "source": [
    "arm()\n",
    "sleep(0.002)\n",
    "print(\"pre-tot: {:3.3f} ns\".format(read_pre_tot(0)*1e9))"
   ]
  },
  {
   "cell_type": "code",
   "execution_count": 5,
   "metadata": {},
   "outputs": [
    {
     "name": "stdout",
     "output_type": "stream",
     "text": [
      "0.00999067375\n",
      "0.0099906775\n",
      "0.009994364583333333\n",
      "0.009994368750000001\n",
      "4.166666667942964e-09\n",
      "3.749999999760889e-09\n"
     ]
    }
   ],
   "source": [
    "arm()\n",
    "sleep(0.002)\n",
    "print(read_pre_tdc_chan(0))\n",
    "print(read_pre_tdc_chan(1))\n",
    "print(read_tdc_chan(0))\n",
    "print(read_tdc_chan(1))\n",
    "\n",
    "print(read_tot(0))\n",
    "print(read_pre_tot(0))"
   ]
  },
  {
   "cell_type": "code",
   "execution_count": 6,
   "metadata": {},
   "outputs": [
    {
     "data": {
      "image/png": "[encoded data removed]",
      "text/plain": [
       "<Figure size 432x288 with 1 Axes>"
      ]
     },
     "metadata": {
      "needs_background": "light"
     },
     "output_type": "display_data"
    },
    {
     "name": "stdout",
     "output_type": "stream",
     "text": [
      "Mean   (ns): 3.973\n",
      "StdDev (ns): 0.208\n"
     ]
    },
    {
     "data": {
      "image/png": "[encoded data removed]",
      "text/plain": [
       "<Figure size 432x288 with 1 Axes>"
      ]
     },
     "metadata": {
      "needs_background": "light"
     },
     "output_type": "display_data"
    },
    {
     "name": "stdout",
     "output_type": "stream",
     "text": [
      "Mean   (ns): 3.973\n",
      "StdDev (ns): 0.208\n"
     ]
    }
   ],
   "source": [
    "##################################################\n",
    "##                measure levcon                ##\n",
    "##################################################\n",
    "\n",
    "\n",
    "disable_calib_pulser()\n",
    "enable_calib_pulser()\n",
    "disable_stretcher()\n",
    "\n",
    "ch=0\n",
    "\n",
    "n = 500\n",
    "\n",
    "l = 0\n",
    "r = 300e3\n",
    "bins=300\n",
    "\n",
    "tot_list = []\n",
    "\n",
    "for i in range(0,n):\n",
    "    arm()\n",
    "    sleep(0.002) \n",
    "    tot_list += [read_tot(ch)]\n",
    "    \n",
    "tot_ns = np.array(tot_list)*1e9\n",
    "mask = (tot_ns >l) & (tot_ns <r)\n",
    "tot_ns = tot_ns[mask]\n",
    "\n",
    "plt.hist(tot_ns,bins=np.linspace(l,r,bins))\n",
    "plt.xlabel(\"ns\")\n",
    "plt.ylabel(\"counts\")\n",
    "plt.show()\n",
    "\n",
    "mean = np.mean(tot_ns)\n",
    "std  = np.std(tot_ns)\n",
    "\n",
    "print(\"Mean   (ns): {:3.3f}\".format(np.mean(tot_ns)))\n",
    "print(\"StdDev (ns): {:3.3f}\".format(np.std(tot_ns)))\n",
    "\n",
    "zoomrange = 10*np.max([std,0.2])\n",
    "\n",
    "l =  mean - zoomrange\n",
    "r = mean + zoomrange\n",
    "bins=100\n",
    "\n",
    "    \n",
    "tot_ns = np.array(tot_list)*1e9\n",
    "mask = (tot_ns >l) & (tot_ns <r)\n",
    "tot_ns = tot_ns[mask]\n",
    "\n",
    "plt.hist(tot_ns,bins=np.linspace(l,r,bins))\n",
    "plt.xlabel(\"ns\")\n",
    "plt.ylabel(\"counts\")\n",
    "plt.title(\"zoom\")\n",
    "plt.show()\n",
    "\n",
    "print(\"Mean   (ns): {:3.3f}\".format(np.mean(tot_ns)))\n",
    "print(\"StdDev (ns): {:3.3f}\".format(np.std(tot_ns)))"
   ]
  },
  {
   "cell_type": "code",
   "execution_count": 7,
   "metadata": {},
   "outputs": [
    {
     "data": {
      "image/png": "[encoded data removed]",
      "text/plain": [
       "<Figure size 432x288 with 1 Axes>"
      ]
     },
     "metadata": {
      "needs_background": "light"
     },
     "output_type": "display_data"
    },
    {
     "name": "stdout",
     "output_type": "stream",
     "text": [
      "Mean   (ns): 3.991\n",
      "StdDev (ns): 0.206\n"
     ]
    },
    {
     "data": {
      "image/png": "[encoded data removed]",
      "text/plain": [
       "<Figure size 432x288 with 1 Axes>"
      ]
     },
     "metadata": {
      "needs_background": "light"
     },
     "output_type": "display_data"
    },
    {
     "name": "stdout",
     "output_type": "stream",
     "text": [
      "Mean   (ns): 3.991\n",
      "StdDev (ns): 0.206\n"
     ]
    }
   ],
   "source": [
    "##################################################\n",
    "##                measure levcon                ##\n",
    "##################################################\n",
    "\n",
    "\n",
    "disable_calib_pulser()\n",
    "enable_calib_pulser()\n",
    "disable_stretcher()\n",
    "\n",
    "ch=0\n",
    "\n",
    "n = 500\n",
    "\n",
    "l = -10e3\n",
    "r = 300e3\n",
    "bins=300\n",
    "\n",
    "tot_list = []\n",
    "\n",
    "for i in range(0,n):\n",
    "    arm()\n",
    "    sleep(0.002) \n",
    "    tot_list += [read_pre_tot(ch)]\n",
    "    \n",
    "tot_ns = np.array(tot_list)*1e9\n",
    "mask = (tot_ns >l) & (tot_ns <r)\n",
    "tot_ns = tot_ns[mask]\n",
    "\n",
    "plt.hist(tot_ns,bins=np.linspace(l,r,bins))\n",
    "plt.xlabel(\"ns\")\n",
    "plt.ylabel(\"counts\")\n",
    "plt.title(\"pre tot\")\n",
    "plt.show()\n",
    "\n",
    "mean = np.mean(tot_ns)\n",
    "std  = np.std(tot_ns)\n",
    "\n",
    "print(\"Mean   (ns): {:3.3f}\".format(np.mean(tot_ns)))\n",
    "print(\"StdDev (ns): {:3.3f}\".format(np.std(tot_ns)))\n",
    "\n",
    "zoomrange = 10*np.max([std,0.2])\n",
    "\n",
    "l =  mean - zoomrange\n",
    "r = mean + zoomrange\n",
    "bins=100\n",
    "\n",
    "    \n",
    "tot_ns = np.array(tot_list)*1e9\n",
    "mask = (tot_ns >l) & (tot_ns <r)\n",
    "tot_ns = tot_ns[mask]\n",
    "\n",
    "plt.hist(tot_ns,bins=np.linspace(l,r,bins))\n",
    "plt.xlabel(\"ns\")\n",
    "plt.ylabel(\"counts\")\n",
    "plt.title(\"zoom\")\n",
    "plt.show()\n",
    "\n",
    "print(\"Mean   (ns): {:3.3f}\".format(np.mean(tot_ns)))\n",
    "print(\"StdDev (ns): {:3.3f}\".format(np.std(tot_ns)))"
   ]
  },
  {
   "cell_type": "code",
   "execution_count": 8,
   "metadata": {},
   "outputs": [
    {
     "data": {
      "image/png": "[encoded data removed]",
      "text/plain": [
       "<Figure size 432x288 with 1 Axes>"
      ]
     },
     "metadata": {
      "needs_background": "light"
     },
     "output_type": "display_data"
    },
    {
     "name": "stdout",
     "output_type": "stream",
     "text": [
      "Mean   (ns): 3703.868\n",
      "StdDev (ns): 232.802\n"
     ]
    },
    {
     "data": {
      "image/png": "[encoded data removed]",
      "text/plain": [
       "<Figure size 432x288 with 1 Axes>"
      ]
     },
     "metadata": {
      "needs_background": "light"
     },
     "output_type": "display_data"
    },
    {
     "name": "stdout",
     "output_type": "stream",
     "text": [
      "Mean   (ns): 3689.116\n",
      "StdDev (ns): 1.924\n"
     ]
    }
   ],
   "source": [
    "##################################################\n",
    "##                measure levcon                ##\n",
    "##################################################\n",
    "\n",
    "\n",
    "disable_calib_pulser()\n",
    "enable_calib_pulser()\n",
    "disable_stretcher()\n",
    "\n",
    "ch=0\n",
    "\n",
    "n = 500\n",
    "\n",
    "l = 0\n",
    "r = 15e3\n",
    "bins=300\n",
    "\n",
    "tdiff_list = []\n",
    "\n",
    "for i in range(0,n):\n",
    "    arm()\n",
    "    sleep(0.002) \n",
    "    tdiff_list += [read_t1(ch)-read_pre_t1(ch)]\n",
    "    \n",
    "tdiff_ns = np.array(tdiff_list)*1e9\n",
    "mask = (tdiff_ns >l) & (tdiff_ns <r)\n",
    "tdiff_ns = tdiff_ns[mask]\n",
    "\n",
    "plt.hist(tdiff_ns,bins=np.linspace(l,r,bins))\n",
    "plt.xlabel(\"ns\")\n",
    "plt.ylabel(\"counts\")\n",
    "plt.show()\n",
    "\n",
    "mean = np.mean(tdiff_ns)\n",
    "std  = np.std(tdiff_ns)\n",
    "\n",
    "print(\"Mean   (ns): {:3.3f}\".format(np.mean(tdiff_ns)))\n",
    "print(\"StdDev (ns): {:3.3f}\".format(np.std(tdiff_ns)))\n",
    "\n",
    "zoomrange = 10*np.max([std,0.2])\n",
    "\n",
    "l =  mean - zoomrange\n",
    "r = mean + zoomrange\n",
    "bins=100\n",
    "\n",
    "    \n",
    "tdiff_ns = np.array(tdiff_list)*1e9\n",
    "mask = (tdiff_ns >l) & (tdiff_ns <r)\n",
    "tdiff_ns = tdiff_ns[mask]\n",
    "\n",
    "plt.hist(tdiff_ns,bins=np.linspace(l,r,bins))\n",
    "plt.xlabel(\"ns\")\n",
    "plt.ylabel(\"counts\")\n",
    "plt.title(\"zoom\")\n",
    "plt.show()\n",
    "\n",
    "print(\"Mean   (ns): {:3.3f}\".format(np.mean(tdiff_ns)))\n",
    "print(\"StdDev (ns): {:3.3f}\".format(np.std(tdiff_ns)))"
   ]
  }
 ],
 "metadata": {
  "kernelspec": {
   "display_name": "Python 3",
   "language": "python",
   "name": "python3"
  },
  "language_info": {
   "codemirror_mode": {
    "name": "ipython",
    "version": 3
   },
   "file_extension": ".py",
   "mimetype": "text/x-python",
   "name": "python",
   "nbconvert_exporter": "python",
   "pygments_lexer": "ipython3",
   "version": "3.7.3"
  }
 },
 "nbformat": 4,
 "nbformat_minor": 2
}
