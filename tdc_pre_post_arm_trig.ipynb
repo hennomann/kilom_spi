{
 "cells": [
  {
   "cell_type": "code",
   "execution_count": 1,
   "metadata": {},
   "outputs": [
    {
     "name": "stderr",
     "output_type": "stream",
     "text": [
      "/home/pi/kilom_spi/high_level_tdc.py:14: RuntimeWarning: This channel is already in use, continuing anyway.  Use GPIO.setwarnings(False) to disable warnings.\n",
      "  GPIO.setup(2, GPIO.OUT)\n"
     ]
    }
   ],
   "source": [
    "from high_level_tdc import *\n",
    "from time import sleep\n",
    "from matplotlib import pyplot as plt\n",
    "import numpy as np"
   ]
  },
  {
   "cell_type": "code",
   "execution_count": 2,
   "metadata": {},
   "outputs": [
    {
     "name": "stdout",
     "output_type": "stream",
     "text": [
      "[1391, 555477]\n",
      "2071.7831423149278\n",
      "2071.7831423149278\n"
     ]
    }
   ],
   "source": [
    "trig_enable_chan(0)\n",
    "disable_calib_pulser()\n",
    "#enable_calib_pulser()\n",
    "\n",
    "print(read_scaler(0))\n",
    "for i in range(0,2):\n",
    "  print(scaler_rate(i,delay=0.1))"
   ]
  },
  {
   "cell_type": "code",
   "execution_count": 3,
   "metadata": {},
   "outputs": [
    {
     "name": "stdout",
     "output_type": "stream",
     "text": [
      "0\n",
      "1\n",
      "0\n",
      "1\n"
     ]
    }
   ],
   "source": [
    "arm()\n",
    "print(get_trig_state())\n",
    "trigger()\n",
    "print(get_trig_state())\n",
    "arm()\n",
    "print(get_trig_state())\n",
    "trigger()\n",
    "print(get_trig_state())\n",
    "arm()\n"
   ]
  },
  {
   "cell_type": "code",
   "execution_count": 4,
   "metadata": {},
   "outputs": [],
   "source": [
    "arm()\n",
    "trig_enable_chan(0)\n",
    "#trigger()"
   ]
  },
  {
   "cell_type": "code",
   "execution_count": 4,
   "metadata": {},
   "outputs": [
    {
     "data": {
      "text/plain": [
       "0"
      ]
     },
     "execution_count": 4,
     "metadata": {},
     "output_type": "execute_result"
    }
   ],
   "source": [
    "wait_for_trig(timeout=0.3)\n",
    "get_trig_state()"
   ]
  },
  {
   "cell_type": "code",
   "execution_count": 38,
   "metadata": {},
   "outputs": [
    {
     "name": "stdout",
     "output_type": "stream",
     "text": [
      "tot: 4.167 ns\n",
      "pre-tot: 4.167 ns\n"
     ]
    }
   ],
   "source": [
    "arm()\n",
    "sleep(0.002)\n",
    "trigger()\n",
    "sleep(0.002)\n",
    "print(\"tot: {:3.3f} ns\".format(read_tot(0)*1e9))\n",
    "print(\"pre-tot: {:3.3f} ns\".format(read_pre_tot(0)*1e9))"
   ]
  },
  {
   "cell_type": "code",
   "execution_count": 138,
   "metadata": {},
   "outputs": [
    {
     "name": "stdout",
     "output_type": "stream",
     "text": [
      "0.039125825833333336\n",
      "0.03912587541666667\n",
      "0.03961260416666667\n",
      "0.03961265416666667\n",
      "5.000000000143778e-08\n",
      "4.958333333499043e-08\n",
      "4.8333333335648376e-08\n",
      "4.8333333335648376e-08\n"
     ]
    }
   ],
   "source": [
    "disable_calib_pulser()\n",
    "#enable_calib_pulser()\n",
    "\n",
    "arm()\n",
    "sleep(0.002)\n",
    "trigger()\n",
    "sleep(0.002)\n",
    "print(read_pre_tdc_chan(0))\n",
    "print(read_pre_tdc_chan(1))\n",
    "print(read_tdc_chan(0))\n",
    "print(read_tdc_chan(1))\n",
    "\n",
    "print(read_tot(0))\n",
    "print(read_pre_tot(0))\n",
    "print(read_tot(1))\n",
    "print(read_pre_tot(1))"
   ]
  },
  {
   "cell_type": "code",
   "execution_count": 5,
   "metadata": {},
   "outputs": [
    {
     "name": "stdout",
     "output_type": "stream",
     "text": [
      "ta pre  (ns) 8480279.167\n",
      "tb pre  (ns) 7995664.583\n",
      "ta post (ns) 8964774.583\n",
      "tb post (ns) 8480282.917\n",
      "\n",
      "ta pre  (ns) 13806851.667\n",
      "tb pre  (ns) 13322540.833\n",
      "ta post (ns) 14290776.250\n",
      "tb post (ns) 13806855.417\n",
      "\n",
      "ta pre  (ns) 20100948.333\n",
      "tb pre  (ns) 20100952.083\n",
      "ta post (ns) 20584995.000\n",
      "tb post (ns) 20584998.750\n",
      "\n",
      "ta pre  (ns) 27362617.917\n",
      "tb pre  (ns) 27362622.083\n",
      "ta post (ns) 27846887.083\n",
      "tb post (ns) 27846890.833\n",
      "\n",
      "ta pre  (ns) 34141152.083\n",
      "tb pre  (ns) 33657310.417\n",
      "ta post (ns) 34625228.333\n",
      "tb post (ns) 34141155.833\n",
      "\n"
     ]
    },
    {
     "data": {
      "image/png": "[encoded data removed]",
      "text/plain": [
       "<Figure size 432x288 with 1 Axes>"
      ]
     },
     "metadata": {
      "needs_background": "light"
     },
     "output_type": "display_data"
    }
   ],
   "source": [
    "\n",
    "tdiff =  []\n",
    "\n",
    "disable_calib_pulser()\n",
    "#enable_calib_pulser()\n",
    "\n",
    "# triggering pulse is stored in post register\n",
    "\n",
    "a = 0\n",
    "b = 1\n",
    "\n",
    "trig_chan = b\n",
    "\n",
    "trig_enable_chan(0)\n",
    "trig_enable_chan(1<<trig_chan)\n",
    "\n",
    "for i in range(0,5):\n",
    "  arm()\n",
    "  sleep(0.002)\n",
    "  #trigger()\n",
    "  sleep(0.002)\n",
    "  tapre = read_pre_t1(a)\n",
    "  tbpre = read_pre_t1(b)\n",
    "  tapost = read_t1(a)\n",
    "  tbpost = read_t1(b)\n",
    "  print(\"ta pre  (ns) {:3.3f}\".format(tapre*1e9))\n",
    "  print(\"tb pre  (ns) {:3.3f}\".format(tbpre*1e9))\n",
    "  print(\"ta post (ns) {:3.3f}\".format(tapost*1e9))\n",
    "  print(\"tb post (ns) {:3.3f}\".format(tbpost*1e9))\n",
    "  print()\n",
    "\n",
    "  tdiff += [tbpre-tapre]\n",
    "\n",
    "tdiff = np.array(tdiff)\n",
    "\n",
    "plt.hist(tdiff*1e9)\n",
    "plt.xlabel(\"ns\")\n",
    "plt.show()"
   ]
  }
 ],
 "metadata": {
  "kernelspec": {
   "display_name": "Python 3",
   "language": "python",
   "name": "python3"
  },
  "language_info": {
   "codemirror_mode": {
    "name": "ipython",
    "version": 3
   },
   "file_extension": ".py",
   "mimetype": "text/x-python",
   "name": "python",
   "nbconvert_exporter": "python",
   "pygments_lexer": "ipython3",
   "version": "3.7.3"
  }
 },
 "nbformat": 4,
 "nbformat_minor": 2
}
