{
 "cells": [
  {
   "cell_type": "code",
   "execution_count": 1,
   "metadata": {},
   "outputs": [
    {
     "name": "stdout",
     "output_type": "stream",
     "text": [
      "0x 00 00 00 00 00 \n",
      "0x 00 de ad be ef \n"
     ]
    }
   ],
   "source": [
    "import struct\n",
    "import spi2b4b\n",
    "\n",
    "import RPi.GPIO as GPIO\n",
    "\n",
    "GPIO.setmode(GPIO.BCM)\n",
    "GPIO.setup(2, GPIO.OUT)\n",
    "\n",
    "GPIO.output(2,0)\n",
    "\n",
    "# Open SPI device\n",
    "device = spi2b4b.open();\n",
    "\n",
    "rcmd=0x08\n",
    "wcmd=0x18\n",
    "addr = 0\n",
    "data = 0xdeadbeef\n",
    "\n",
    "r=spi2b4b.read(device,rcmd,addr)\n",
    "print(\"0x \",end=\"\")\n",
    "for byte in r[1:]:\n",
    "    print(\"{:02x} \".format(byte),end=\"\")\n",
    "print()\n",
    "\n",
    "spi2b4b.write(device,wcmd,addr,data)\n",
    "\n",
    "r=spi2b4b.read(device,rcmd,addr)\n",
    "print(\"0x \",end=\"\")\n",
    "for byte in r[1:]:\n",
    "    print(\"{:02x} \".format(byte),end=\"\")\n",
    "print()"
   ]
  },
  {
   "cell_type": "code",
   "execution_count": 2,
   "metadata": {},
   "outputs": [
    {
     "name": "stdout",
     "output_type": "stream",
     "text": [
      "0x 00 00 21 05 05 \n"
     ]
    }
   ],
   "source": [
    "\n",
    "rcmd=0x06\n",
    "r=spi2b4b.read(device,rcmd,addr)\n",
    "print(\"0x \",end=\"\")\n",
    "for byte in r[1:]:\n",
    "    print(\"{:02x} \".format(byte),end=\"\")\n",
    "print()"
   ]
  }
 ],
 "metadata": {
  "kernelspec": {
   "display_name": "Python 3",
   "language": "python",
   "name": "python3"
  },
  "language_info": {
   "codemirror_mode": {
    "name": "ipython",
    "version": 3
   },
   "file_extension": ".py",
   "mimetype": "text/x-python",
   "name": "python",
   "nbconvert_exporter": "python",
   "pygments_lexer": "ipython3",
   "version": "3.7.3"
  }
 },
 "nbformat": 4,
 "nbformat_minor": 2
}
