{
 "cells": [
  {
   "cell_type": "code",
   "execution_count": 1,
   "metadata": {},
   "outputs": [],
   "source": [
    "from high_level_tdc import *\n",
    "from time import sleep\n",
    "from matplotlib import pyplot as plt\n",
    "import numpy as np"
   ]
  },
  {
   "cell_type": "code",
   "execution_count": 2,
   "metadata": {},
   "outputs": [
    {
     "name": "stdout",
     "output_type": "stream",
     "text": [
      "[2565, 121565]\n",
      "576132.330795112\n"
     ]
    }
   ],
   "source": [
    "\n",
    "#enable_calib_pulser()\n",
    "disable_calib_pulser()\n",
    "\n",
    "print(read_scaler(0))\n",
    "for i in range(0,1):\n",
    "  print(scaler_rate(i,delay=1))"
   ]
  },
  {
   "cell_type": "code",
   "execution_count": 3,
   "metadata": {},
   "outputs": [
    {
     "data": {
      "image/png": "[encoded data removed]",
      "text/plain": [
       "<Figure size 432x288 with 1 Axes>"
      ]
     },
     "metadata": {
      "needs_background": "light"
     },
     "output_type": "display_data"
    },
    {
     "name": "stdout",
     "output_type": "stream",
     "text": [
      "Mean   (ns): 15.203\n",
      "StdDev (ns): 0.208\n"
     ]
    },
    {
     "data": {
      "image/png": "[encoded data removed]",
      "text/plain": [
       "<Figure size 432x288 with 1 Axes>"
      ]
     },
     "metadata": {
      "needs_background": "light"
     },
     "output_type": "display_data"
    },
    {
     "name": "stdout",
     "output_type": "stream",
     "text": [
      "Mean   (ns): 15.203\n",
      "StdDev (ns): 0.208\n"
     ]
    }
   ],
   "source": [
    "##################################################\n",
    "##                measure levcon                ##\n",
    "##################################################\n",
    "\n",
    "\n",
    "disable_calib_pulser()\n",
    "#enable_calib_pulser()\n",
    "disable_stretcher()\n",
    "\n",
    "ch=0\n",
    "\n",
    "n = 500\n",
    "\n",
    "l = 0\n",
    "r = 300e3\n",
    "bins=300\n",
    "\n",
    "tot_list = []\n",
    "\n",
    "for i in range(0,n):\n",
    "    arm()\n",
    "    sleep(0.002) \n",
    "    tot_list += [read_tot(ch)]\n",
    "    \n",
    "tot_ns = np.array(tot_list)*1e9\n",
    "mask = (tot_ns >l) & (tot_ns <r)\n",
    "tot_ns = tot_ns[mask]\n",
    "\n",
    "plt.hist(tot_ns,bins=np.linspace(l,r,bins))\n",
    "plt.xlabel(\"ns\")\n",
    "plt.ylabel(\"counts\")\n",
    "plt.show()\n",
    "\n",
    "mean = np.mean(tot_ns)\n",
    "std  = np.std(tot_ns)\n",
    "\n",
    "print(\"Mean   (ns): {:3.3f}\".format(np.mean(tot_ns)))\n",
    "print(\"StdDev (ns): {:3.3f}\".format(np.std(tot_ns)))\n",
    "\n",
    "zoomrange = 10*np.max([std,0.2])\n",
    "\n",
    "l =  mean - zoomrange\n",
    "r = mean + zoomrange\n",
    "bins=100\n",
    "\n",
    "    \n",
    "tot_ns = np.array(tot_list)*1e9\n",
    "mask = (tot_ns >l) & (tot_ns <r)\n",
    "tot_ns = tot_ns[mask]\n",
    "\n",
    "plt.hist(tot_ns,bins=np.linspace(l,r,bins))\n",
    "plt.xlabel(\"ns\")\n",
    "plt.ylabel(\"counts\")\n",
    "plt.title(\"zoom\")\n",
    "plt.show()\n",
    "\n",
    "print(\"Mean   (ns): {:3.3f}\".format(np.mean(tot_ns)))\n",
    "print(\"StdDev (ns): {:3.3f}\".format(np.std(tot_ns)))"
   ]
  }
 ],
 "metadata": {
  "kernelspec": {
   "display_name": "Python 3",
   "language": "python",
   "name": "python3"
  },
  "language_info": {
   "codemirror_mode": {
    "name": "ipython",
    "version": 3
   },
   "file_extension": ".py",
   "mimetype": "text/x-python",
   "name": "python",
   "nbconvert_exporter": "python",
   "pygments_lexer": "ipython3",
   "version": "3.7.3"
  }
 },
 "nbformat": 4,
 "nbformat_minor": 2
}
