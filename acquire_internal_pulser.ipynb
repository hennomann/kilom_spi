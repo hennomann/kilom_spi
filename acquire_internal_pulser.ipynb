{
 "cells": [
  {
   "cell_type": "code",
   "execution_count": 1,
   "metadata": {},
   "outputs": [
    {
     "name": "stderr",
     "output_type": "stream",
     "text": [
      "/home/pi/kilom_spi/high_level_tdc.py:20: RuntimeWarning: This channel is already in use, continuing anyway.  Use GPIO.setwarnings(False) to disable warnings.\n",
      "  GPIO.setup(2, GPIO.OUT)\n"
     ]
    }
   ],
   "source": [
    "from high_level_tdc import *\n",
    "from time import sleep\n",
    "from matplotlib import pyplot as plt\n",
    "import numpy as np\n",
    "\n",
    "prop_cycle = plt.rcParams['axes.prop_cycle']\n",
    "colors = prop_cycle.by_key()['color']"
   ]
  },
  {
   "cell_type": "code",
   "execution_count": 2,
   "metadata": {},
   "outputs": [],
   "source": [
    "enable_calib_pulser()"
   ]
  },
  {
   "cell_type": "code",
   "execution_count": 3,
   "metadata": {},
   "outputs": [],
   "source": [
    "data = acquire(\n",
    "    trig_chan=0,\n",
    "    channels = range(0,8),\n",
    "    window_L=-1000e-9,\n",
    "    window_R=1001e-9,\n",
    "    n = 50\n",
    ")"
   ]
  },
  {
   "cell_type": "code",
   "execution_count": 7,
   "metadata": {},
   "outputs": [
    {
     "name": "stdout",
     "output_type": "stream",
     "text": [
      "data length: 50\n",
      "plotting first n=10 traces\n"
     ]
    },
    {
     "data": {
      "image/png": "[encoded data removed]",
      "text/plain": [
       "<Figure size 432x288 with 1 Axes>"
      ]
     },
     "metadata": {
      "needs_background": "light"
     },
     "output_type": "display_data"
    }
   ],
   "source": [
    "plot_pulses(data,\n",
    "            window_L=-20e-9,\n",
    "            window_R=20e-9,\n",
    "            staggered = True\n",
    "           )"
   ]
  },
  {
   "cell_type": "code",
   "execution_count": 5,
   "metadata": {},
   "outputs": [
    {
     "name": "stdout",
     "output_type": "stream",
     "text": [
      "ch0 t1 mean = 0.000 ns\n",
      "ch0 t1 std  = 0.000 ns\n",
      "\n",
      "ch1 t1 mean = -2.083 ns\n",
      "ch1 t1 std  = 0.000 ns\n",
      "\n",
      "ch2 t1 mean = 0.417 ns\n",
      "ch2 t1 std  = 0.000 ns\n",
      "\n",
      "ch3 t1 mean = 0.417 ns\n",
      "ch3 t1 std  = 0.000 ns\n",
      "\n",
      "ch4 t1 mean = -2.500 ns\n",
      "ch4 t1 std  = 0.000 ns\n",
      "\n",
      "ch5 t1 mean = 1.667 ns\n",
      "ch5 t1 std  = 0.000 ns\n",
      "\n",
      "ch6 t1 mean = -2.083 ns\n",
      "ch6 t1 std  = 0.000 ns\n",
      "\n",
      "ch7 t1 mean = -2.500 ns\n",
      "ch7 t1 std  = 0.000 ns\n",
      "\n"
     ]
    },
    {
     "data": {
      "image/png": "[encoded data removed]",
      "text/plain": [
       "<Figure size 432x288 with 1 Axes>"
      ]
     },
     "metadata": {
      "needs_background": "light"
     },
     "output_type": "display_data"
    }
   ],
   "source": [
    "bins = np.linspace(-8,8,80)\n",
    "\n",
    "for ch in range(0,8):\n",
    "\n",
    "  t1_ns = np.array(data[ch][\"t1\"])*1e9\n",
    "\n",
    "  plt.hist(t1_ns,bins=bins, label =\"t1 ch{:d}\".format(ch))\n",
    "  plt.legend()\n",
    "  plt.xlabel(\"ns\")\n",
    "  print(\"ch{:d} t1 mean = {:3.3f} ns\".format(ch,np.nanmean(t1_ns)))\n",
    "  print(\"ch{:d} t1 std  = {:3.3f} ns\".format(ch,np.nanstd(t1_ns)))\n",
    "  print()\n",
    "\n",
    "\n",
    "plt.show()\n",
    "\n"
   ]
  },
  {
   "cell_type": "code",
   "execution_count": 6,
   "metadata": {},
   "outputs": [
    {
     "name": "stdout",
     "output_type": "stream",
     "text": [
      "ch0 tot mean = 4.167 ns\n",
      "ch0 tot std  = 0.000 ns\n",
      "\n",
      "ch1 tot mean = 3.750 ns\n",
      "ch1 tot std  = 0.000 ns\n",
      "\n",
      "ch2 tot mean = 4.167 ns\n",
      "ch2 tot std  = 0.000 ns\n",
      "\n",
      "ch3 tot mean = 3.750 ns\n",
      "ch3 tot std  = 0.000 ns\n",
      "\n",
      "ch4 tot mean = 3.750 ns\n",
      "ch4 tot std  = 0.000 ns\n",
      "\n",
      "ch5 tot mean = 4.167 ns\n",
      "ch5 tot std  = 0.000 ns\n",
      "\n",
      "ch6 tot mean = 4.167 ns\n",
      "ch6 tot std  = 0.000 ns\n",
      "\n",
      "ch7 tot mean = 3.750 ns\n",
      "ch7 tot std  = 0.000 ns\n",
      "\n"
     ]
    },
    {
     "data": {
      "image/png": "[encoded data removed]",
      "text/plain": [
       "<Figure size 432x288 with 1 Axes>"
      ]
     },
     "metadata": {
      "needs_background": "light"
     },
     "output_type": "display_data"
    }
   ],
   "source": [
    "bins = np.linspace(-1,20,80)\n",
    "\n",
    "for ch in range(0,8):\n",
    "\n",
    "  tot_ns = np.array(data[ch][\"tot\"])*1e9\n",
    "\n",
    "  plt.hist(tot_ns,bins=bins, label =\"tot ch{:d}\".format(ch))\n",
    "  plt.legend()\n",
    "  plt.xlabel(\"ns\")\n",
    "  print(\"ch{:d} tot mean = {:3.3f} ns\".format(ch,np.nanmean(tot_ns)))\n",
    "  print(\"ch{:d} tot std  = {:3.3f} ns\".format(ch,np.nanstd(tot_ns)))\n",
    "  print()\n",
    "\n",
    "\n",
    "plt.show()\n",
    "\n"
   ]
  }
 ],
 "metadata": {
  "kernelspec": {
   "display_name": "Python 3",
   "language": "python",
   "name": "python3"
  },
  "language_info": {
   "codemirror_mode": {
    "name": "ipython",
    "version": 3
   },
   "file_extension": ".py",
   "mimetype": "text/x-python",
   "name": "python",
   "nbconvert_exporter": "python",
   "pygments_lexer": "ipython3",
   "version": "3.7.3"
  }
 },
 "nbformat": 4,
 "nbformat_minor": 2
}
