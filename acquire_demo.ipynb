{
 "cells": [
  {
   "cell_type": "code",
   "execution_count": 1,
   "metadata": {},
   "outputs": [
    {
     "name": "stderr",
     "output_type": "stream",
     "text": [
      "/home/pi/kilom_spi/high_level_tdc.py:20: RuntimeWarning: This channel is already in use, continuing anyway.  Use GPIO.setwarnings(False) to disable warnings.\n",
      "  GPIO.setup(2, GPIO.OUT)\n"
     ]
    }
   ],
   "source": [
    "from high_level_tdc import *\n",
    "from time import sleep\n",
    "from matplotlib import pyplot as plt\n",
    "import numpy as np"
   ]
  },
  {
   "cell_type": "code",
   "execution_count": 2,
   "metadata": {},
   "outputs": [],
   "source": [
    "data = acquire(\n",
    "    trig_chan=0,\n",
    "    channels = [0,1],\n",
    "    window_L=-1000e-9,\n",
    "    window_R=1001e-9,\n",
    "    n = 5\n",
    ")"
   ]
  },
  {
   "cell_type": "code",
   "execution_count": 9,
   "metadata": {},
   "outputs": [
    {
     "data": {
      "image/png": "[encoded data removed]",
      "text/plain": [
       "<Figure size 432x288 with 1 Axes>"
      ]
     },
     "metadata": {
      "needs_background": "light"
     },
     "output_type": "display_data"
    },
    {
     "name": "stdout",
     "output_type": "stream",
     "text": [
      "ch0 t1 mean = 0.000 ns\n",
      "ch0 t1 std  = 0.000 ns\n",
      "\n",
      "ch1 t1 mean = 20.000 ns\n",
      "ch1 t1 std  = 0.000 ns\n"
     ]
    }
   ],
   "source": [
    "ch0_t1_ns = np.array(data[0][\"t1\"])*1e9\n",
    "ch1_t1_ns = np.array(data[1][\"t1\"])*1e9\n",
    "\n",
    "plt.hist(ch0_t1_ns,bins=np.linspace(-50,50,100), label =\"ch0 t1\")\n",
    "plt.hist(ch1_t1_ns,bins=np.linspace(-50,50,100), label =\"ch1 t1\")\n",
    "plt.legend()\n",
    "plt.xlabel(\"ns\")\n",
    "\n",
    "\n",
    "plt.show()\n",
    "\n",
    "print(\"ch0 t1 mean = {:3.3f} ns\".format(np.nanmean(ch0_t1_ns)))\n",
    "print(\"ch0 t1 std  = {:3.3f} ns\".format(np.nanstd(ch0_t1_ns)))\n",
    "print()\n",
    "print(\"ch1 t1 mean = {:3.3f} ns\".format(np.nanmean(ch1_t1_ns)))\n",
    "print(\"ch1 t1 std  = {:3.3f} ns\".format(np.nanstd(ch1_t1_ns)))"
   ]
  },
  {
   "cell_type": "code",
   "execution_count": 10,
   "metadata": {},
   "outputs": [
    {
     "data": {
      "image/png": "[encoded data removed]",
      "text/plain": [
       "<Figure size 432x288 with 1 Axes>"
      ]
     },
     "metadata": {
      "needs_background": "light"
     },
     "output_type": "display_data"
    },
    {
     "name": "stdout",
     "output_type": "stream",
     "text": [
      "ch0 tot mean = 2.917 ns\n",
      "ch0 tot std  = 0.000 ns\n"
     ]
    },
    {
     "data": {
      "image/png": "[encoded data removed]",
      "text/plain": [
       "<Figure size 432x288 with 1 Axes>"
      ]
     },
     "metadata": {
      "needs_background": "light"
     },
     "output_type": "display_data"
    },
    {
     "name": "stdout",
     "output_type": "stream",
     "text": [
      "ch1 tot mean = 3.750 ns\n",
      "ch1 tot std  = 0.000 ns\n"
     ]
    }
   ],
   "source": [
    "bins=np.linspace(-1,10,100)\n",
    "\n",
    "ch0_tot_ns =np.array(data[0][\"tot\"])*1e9 \n",
    "\n",
    "plt.hist(ch0_tot_ns,bins=bins, label =\"ch0 tot\")\n",
    "plt.legend()\n",
    "plt.xlabel(\"ns\")\n",
    "plt.show()\n",
    "\n",
    "print(\"ch0 tot mean = {:3.3f} ns\".format(np.nanmean(ch0_tot_ns)))\n",
    "print(\"ch0 tot std  = {:3.3f} ns\".format(np.nanstd(ch0_tot_ns)))\n",
    "\n",
    "ch1_tot_ns =np.array(data[1][\"tot\"])*1e9 \n",
    "\n",
    "plt.hist(ch1_tot_ns,bins=bins, label =\"ch1 tot\", color=\"orange\")\n",
    "plt.legend()\n",
    "plt.xlabel(\"ns\")\n",
    "plt.show()\n",
    "\n",
    "print(\"ch1 tot mean = {:3.3f} ns\".format(np.nanmean(ch1_tot_ns)))\n",
    "print(\"ch1 tot std  = {:3.3f} ns\".format(np.nanstd(ch1_tot_ns)))\n",
    "\n",
    "\n"
   ]
  }
 ],
 "metadata": {
  "kernelspec": {
   "display_name": "Python 3",
   "language": "python",
   "name": "python3"
  },
  "language_info": {
   "codemirror_mode": {
    "name": "ipython",
    "version": 3
   },
   "file_extension": ".py",
   "mimetype": "text/x-python",
   "name": "python",
   "nbconvert_exporter": "python",
   "pygments_lexer": "ipython3",
   "version": "3.7.3"
  }
 },
 "nbformat": 4,
 "nbformat_minor": 2
}
