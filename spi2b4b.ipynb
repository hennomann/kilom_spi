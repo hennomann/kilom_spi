{
 "cells": [
  {
   "cell_type": "code",
   "execution_count": 1,
   "id": "sharp-university",
   "metadata": {},
   "outputs": [
    {
     "name": "stdout",
     "output_type": "stream",
     "text": [
      "0x 00 de ad be ef \n",
      "0x 00 de ad be ef \n"
     ]
    }
   ],
   "source": [
    "import struct\n",
    "import spi2b4b\n",
    "\n",
    "# Open SPI device\n",
    "device = spi2b4b.open();\n",
    "\n",
    "rcmd=0x04\n",
    "wcmd=0x14\n",
    "addr = 0\n",
    "data = 0xdeadbeef\n",
    "\n",
    "r=spi2b4b.read(device,rcmd,addr)\n",
    "print(\"0x \",end=\"\")\n",
    "for byte in r[1:]:\n",
    "    print(\"{:02x} \".format(byte),end=\"\")\n",
    "print()\n",
    "\n",
    "spi2b4b.write(device,wcmd,addr,data)\n",
    "\n",
    "r=spi2b4b.read(device,rcmd,addr)\n",
    "print(\"0x \",end=\"\")\n",
    "for byte in r[1:]:\n",
    "    print(\"{:02x} \".format(byte),end=\"\")\n",
    "print()"
   ]
  },
  {
   "cell_type": "code",
   "execution_count": 24,
   "id": "unsigned-cigarette",
   "metadata": {},
   "outputs": [
    {
     "data": {
      "text/plain": [
       "[0, 0, 145, 39, 41, 119]"
      ]
     },
     "execution_count": 24,
     "metadata": {},
     "output_type": "execute_result"
    }
   ],
   "source": [
    "\n",
    "r=spi2b4b.read(device,0x03,0x01)\n",
    "r"
   ]
  }
 ],
 "metadata": {
  "kernelspec": {
   "display_name": "Python 3",
   "language": "python",
   "name": "python3"
  },
  "language_info": {
   "codemirror_mode": {
    "name": "ipython",
    "version": 3
   },
   "file_extension": ".py",
   "mimetype": "text/x-python",
   "name": "python",
   "nbconvert_exporter": "python",
   "pygments_lexer": "ipython3",
   "version": "3.7.3"
  }
 },
 "nbformat": 4,
 "nbformat_minor": 5
}
