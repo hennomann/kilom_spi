{
 "cells": [
  {
   "cell_type": "code",
   "execution_count": 1,
   "metadata": {},
   "outputs": [
    {
     "name": "stderr",
     "output_type": "stream",
     "text": [
      "/home/pi/kilom_spi/high_level_tdc.py:20: RuntimeWarning: This channel is already in use, continuing anyway.  Use GPIO.setwarnings(False) to disable warnings.\n",
      "  GPIO.setup(2, GPIO.OUT)\n"
     ]
    }
   ],
   "source": [
    "from high_level_tdc import *\n",
    "from time import sleep\n",
    "from matplotlib import pyplot as plt\n",
    "import numpy as np"
   ]
  },
  {
   "cell_type": "code",
   "execution_count": 2,
   "metadata": {},
   "outputs": [],
   "source": [
    "import M8195A as awg\n",
    "awg_ip=\"192.168.0.208\"\n",
    "period=\"2u\""
   ]
  },
  {
   "cell_type": "code",
   "execution_count": 3,
   "metadata": {},
   "outputs": [
    {
     "name": "stdout",
     "output_type": "stream",
     "text": [
      "target ip : 192.168.0.208\n",
      "connect to device ...\n",
      "*IDN?\n",
      "Keysight Technologies,M8195A,DE57700132,4.0.0.0-1\n",
      "success!\n",
      "NOTE: overriding sample rate to match desired period!\n",
      "attempting to set sample rate : 64960000000.000000 Hz\n",
      "success!\n",
      "preparing data for channel 1\n",
      "sending data ...\n",
      "set output voltage ...\n",
      "Output 1 on ...\n",
      "RUN!\n",
      "close socket\n"
     ]
    }
   ],
   "source": [
    "##################################################\n",
    "##                  channel 1                   ##\n",
    "##################################################\n",
    "\n",
    "awg.pulser(\n",
    "    ip=awg_ip,\n",
    "    trace=1,\n",
    "    period=period,\n",
    "    width=\"5n\",\n",
    "    leading_edge=\"2n\",\n",
    "    trailing_edge=\"2n\",\n",
    "    on_val=\"-500m\",\n",
    "    idle_val=\"0\",\n",
    "    delay=\"200n\"\n",
    ")"
   ]
  },
  {
   "cell_type": "code",
   "execution_count": 4,
   "metadata": {},
   "outputs": [
    {
     "name": "stdout",
     "output_type": "stream",
     "text": [
      "target ip : 192.168.0.208\n",
      "connect to device ...\n",
      "*IDN?\n",
      "Keysight Technologies,M8195A,DE57700132,4.0.0.0-1\n",
      "success!\n",
      "NOTE: overriding sample rate to match desired period!\n",
      "attempting to set sample rate : 64960000000.000000 Hz\n",
      "success!\n",
      "preparing data for channel 2\n",
      "sending data ...\n",
      "set output voltage ...\n",
      "Output 2 on ...\n",
      "RUN!\n",
      "close socket\n"
     ]
    }
   ],
   "source": [
    "##################################################\n",
    "##                  channel 2                   ##\n",
    "##################################################\n",
    "\n",
    "awg.pulser(\n",
    "    ip=awg_ip,\n",
    "    trace=2,\n",
    "    period=period,\n",
    "    width=\"5n\",\n",
    "    leading_edge=\"2n\",\n",
    "    trailing_edge=\"2n\",\n",
    "    on_val=\"-500m\",\n",
    "    idle_val=\"0\",\n",
    "    delay=\"211n\"\n",
    ")"
   ]
  },
  {
   "cell_type": "code",
   "execution_count": 9,
   "metadata": {},
   "outputs": [],
   "source": [
    "def test_pulse_delay(delay):\n",
    "    \n",
    "  awg.pulser(\n",
    "      ip=awg_ip,\n",
    "      trace=2,\n",
    "      period=period,\n",
    "      width=\"5n\",\n",
    "      leading_edge=\"2n\",\n",
    "      trailing_edge=\"2n\",\n",
    "      on_val=\"-500m\",\n",
    "      idle_val=\"0\",\n",
    "      delay=211e-9+delay\n",
    "  )"
   ]
  },
  {
   "cell_type": "code",
   "execution_count": 10,
   "metadata": {},
   "outputs": [
    {
     "name": "stdout",
     "output_type": "stream",
     "text": [
      "target ip : 192.168.0.208\n",
      "connect to device ...\n",
      "*IDN?\n",
      "Keysight Technologies,M8195A,DE57700132,4.0.0.0-1\n",
      "success!\n",
      "NOTE: overriding sample rate to match desired period!\n",
      "attempting to set sample rate : 64960000000.000000 Hz\n",
      "success!\n",
      "preparing data for channel 2\n",
      "sending data ...\n",
      "set output voltage ...\n",
      "Output 2 on ...\n",
      "RUN!\n",
      "close socket\n"
     ]
    }
   ],
   "source": [
    "test_pulse_delay(20e-9)"
   ]
  },
  {
   "cell_type": "code",
   "execution_count": 14,
   "metadata": {},
   "outputs": [],
   "source": [
    "data = acquire(\n",
    "    trig_chan=0,\n",
    "    channels = [0,1],\n",
    "    window_L=-1000e-9,\n",
    "    window_R=1001e-9,\n",
    "    n = 5\n",
    ")"
   ]
  },
  {
   "cell_type": "code",
   "execution_count": 12,
   "metadata": {},
   "outputs": [
    {
     "data": {
      "image/png": "[encoded data removed]",
      "text/plain": [
       "<Figure size 432x288 with 1 Axes>"
      ]
     },
     "metadata": {
      "needs_background": "light"
     },
     "output_type": "display_data"
    }
   ],
   "source": [
    "plt.hist(np.array(data[0][\"t1\"])*1e9,bins=np.linspace(-50,50,100), label =\"ch0 t1\")\n",
    "plt.hist(np.array(data[1][\"t1\"])*1e9,bins=np.linspace(-50,50,100), label =\"ch1 t1\")\n",
    "plt.legend()\n",
    "plt.xlabel(\"ns\")\n",
    "\n",
    "plt.show()"
   ]
  },
  {
   "cell_type": "code",
   "execution_count": 13,
   "metadata": {},
   "outputs": [
    {
     "data": {
      "image/png": "[encoded data removed]",
      "text/plain": [
       "<Figure size 432x288 with 1 Axes>"
      ]
     },
     "metadata": {
      "needs_background": "light"
     },
     "output_type": "display_data"
    },
    {
     "data": {
      "image/png": "[encoded data removed]",
      "text/plain": [
       "<Figure size 432x288 with 1 Axes>"
      ]
     },
     "metadata": {
      "needs_background": "light"
     },
     "output_type": "display_data"
    }
   ],
   "source": [
    "bins=np.linspace(-5,50,100)\n",
    "plt.hist(np.array(data[0][\"tot\"])*1e9,bins=bins, label =\"ch0 tot\")\n",
    "plt.legend()\n",
    "plt.xlabel(\"ns\")\n",
    "plt.show()\n",
    "\n",
    "plt.hist(np.array(data[1][\"tot\"])*1e9,bins=bins, label =\"ch1 tot\")\n",
    "plt.legend()\n",
    "plt.xlabel(\"ns\")\n",
    "plt.show()"
   ]
  },
  {
   "cell_type": "code",
   "execution_count": 20,
   "metadata": {},
   "outputs": [
    {
     "data": {
      "text/plain": [
       "[1.9583333329964425e-08,\n",
       " 1.9583333329964425e-08,\n",
       " 1.9583333329964425e-08,\n",
       " 1.9583333329964425e-08,\n",
       " 1.9583333329964425e-08]"
      ]
     },
     "execution_count": 20,
     "metadata": {},
     "output_type": "execute_result"
    }
   ],
   "source": [
    "data[1][\"t1\"]"
   ]
  }
 ],
 "metadata": {
  "kernelspec": {
   "display_name": "Python 3",
   "language": "python",
   "name": "python3"
  },
  "language_info": {
   "codemirror_mode": {
    "name": "ipython",
    "version": 3
   },
   "file_extension": ".py",
   "mimetype": "text/x-python",
   "name": "python",
   "nbconvert_exporter": "python",
   "pygments_lexer": "ipython3",
   "version": "3.7.3"
  }
 },
 "nbformat": 4,
 "nbformat_minor": 2
}
